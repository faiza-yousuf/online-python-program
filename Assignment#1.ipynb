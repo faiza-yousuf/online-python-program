{
 "cells": [
  {
   "cell_type": "code",
   "execution_count": 2,
   "id": "fed6b2e6",
   "metadata": {},
   "outputs": [
    {
     "name": "stdout",
     "output_type": "stream",
     "text": [
      "Twinkle,twinkle,Little Star \n",
      "How i wonder what You are! \n",
      "Up above the world so high,\n",
      "Like a diamond on the sky.\n",
      "\n",
      "Twinkle,twinkle ,Little star, \n",
      "\n",
      "How I wonderWhat you are! \n"
     ]
    }
   ],
   "source": [
    "\n",
    "    print(\"Twinkle,twinkle,Little Star \\nHow i wonder what You are! \\nUp above the world so high,\\nLike a diamond on the sky.\\n\\nTwinkle,twinkle ,Little star, \\n\\nHow I wonderWhat you are! \")"
   ]
  },
  {
   "cell_type": "code",
   "execution_count": 1,
   "id": "20a71cec",
   "metadata": {},
   "outputs": [
    {
     "name": "stdout",
     "output_type": "stream",
     "text": [
      "3.9.7 (default, Sep 16 2021, 16:59:28) [MSC v.1916 64 bit (AMD64)]\n"
     ]
    }
   ],
   "source": [
    "\n",
    "    import sys\n",
    "    print(sys.version)"
   ]
  },
  {
   "cell_type": "code",
   "execution_count": 8,
   "id": "cbbd3368",
   "metadata": {},
   "outputs": [
    {
     "name": "stdout",
     "output_type": "stream",
     "text": [
      "Current date and time:\n",
      "2022-01-01-20:00:45\n"
     ]
    }
   ],
   "source": [
    "\n",
    "    import datetime\n",
    "    now=datetime.datetime.now()\n",
    "    print(\"Current date and time:\")\n",
    "    print(now.strftime(\"%Y-%m-%d-%H:%M:%S\"))\n",
    "    "
   ]
  },
  {
   "cell_type": "code",
   "execution_count": null,
   "id": "58078c9d",
   "metadata": {},
   "outputs": [],
   "source": [
    "PI=3.14\n",
    "r=float(input(\"Enterthe radius of a circle\"))\n",
    "area= PI*r*r\n",
    "print(\"Area of a circle=%.2f\"%area)"
   ]
  },
  {
   "cell_type": "code",
   "execution_count": 11,
   "id": "e38c7352",
   "metadata": {},
   "outputs": [
    {
     "name": "stdout",
     "output_type": "stream",
     "text": [
      "4\n"
     ]
    }
   ],
   "source": [
    "a=2\n",
    "b=2\n",
    "c=a+b\n",
    "print(c)"
   ]
  },
  {
   "cell_type": "code",
   "execution_count": null,
   "id": "8673817e",
   "metadata": {},
   "outputs": [],
   "source": []
  },
  {
   "cell_type": "code",
   "execution_count": null,
   "id": "97742af0",
   "metadata": {},
   "outputs": [],
   "source": []
  },
  {
   "cell_type": "code",
   "execution_count": null,
   "id": "c90e525b",
   "metadata": {},
   "outputs": [],
   "source": []
  }
 ],
 "metadata": {
  "kernelspec": {
   "display_name": "Python 3 (ipykernel)",
   "language": "python",
   "name": "python3"
  },
  "language_info": {
   "codemirror_mode": {
    "name": "ipython",
    "version": 3
   },
   "file_extension": ".py",
   "mimetype": "text/x-python",
   "name": "python",
   "nbconvert_exporter": "python",
   "pygments_lexer": "ipython3",
   "version": "3.9.7"
  }
 },
 "nbformat": 4,
 "nbformat_minor": 5
}
